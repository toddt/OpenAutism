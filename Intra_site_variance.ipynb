{
 "cells": [
  {
   "cell_type": "code",
   "execution_count": 17,
   "metadata": {},
   "outputs": [],
   "source": [
    "########### SPECIFY WHICH TWO SITES/TASKS TO COMPARE ################\n",
    "\n",
    "#this is a binary brain mask (same for all subject)\n",
    "mask = \"/om/group/saxelab/OpenAutism/Analysis/first_level_gorgolewski.py/CBT/sub-SAXCBTNT04/sholo/model/run1/MNI152NLin2009cAsym_brainmask.nii.gz\"\n",
    "\n",
    "smoothed = 0          # 0 (no aroma) or 1 (aroma)\n",
    "\n",
    "# site 1 specs\n",
    "site1 = 'tasti2'     # site is ID (e.g. SCOTTFM, CBT, DOD, tasti2, EIB)\n",
    "task1 = 'sholo'       # task (e.g. sholo, morphing, etc.)\n",
    "run1 = '001'          # run (e.g. 001 , 002, 003, 004)\n",
    "\n",
    "save_path = \"./Site_Variance_Plots/\"\n",
    "save_path2 = \"./Site_Variance_Plots/Intrasite_Brains/\"\n"
   ]
  },
  {
   "cell_type": "code",
   "execution_count": 18,
   "metadata": {},
   "outputs": [
    {
     "name": "stdout",
     "output_type": "stream",
     "text": [
      "EXCLUDE_tasti2_24\n",
      "EXCLUDE_tasti2_41\n",
      "EXCLUDE_tasti2_42\n",
      "EXCLUDE_tasti2_48\n",
      "Total= 41\n",
      "tasti2 = 41\n"
     ]
    }
   ],
   "source": [
    "from glob import glob\n",
    "import re\n",
    "\n",
    "if smoothed:\n",
    "    aroma = '_variant-smoothAROMAnonaggr'\n",
    "    variantpath = \"/om/group/saxelab/OpenAutism/Analysis/aroma_bold_reference_images/\"\n",
    "else:\n",
    "    aroma = ''\n",
    "    variantpath = '/om/group/saxelab/OpenAutism/Analysis/bold_reference_images/'\n",
    "\n",
    "# list all of the files in directory /om/group/saxelab/OpenAutism/Analysis/bold_reference_images\n",
    "all_files = glob(variantpath+\"*\")\n",
    "subject = []\n",
    "count_1 = 0\n",
    "count_2 = 0\n",
    "\n",
    "# create list of subject in folder\n",
    "for runs in range(0, len(all_files)):\n",
    "    SITE1 = re.search('mean_sub-SAX'+site1+'(.+?)_task-'+task1+'_run-'+run1+'_bold_space-MNI152NLin2009cAsym'+aroma+'_preproc.nii.gz', all_files[runs])\n",
    "    if SITE1:\n",
    "        found = SITE1.group(1)\n",
    "        if 'SAX'+site1+found+task1+run1 in open('Runs_MotionFiltered.csv').read():\n",
    "            found = 'mean_sub-SAX'+site1+found+'_task-'+task1+'_run-'+run1+'_bold_space-MNI152NLin2009cAsym'+aroma+'_preproc.nii.gz'\n",
    "            subject.append(found)\n",
    "            count_1 = count_1 + 1\n",
    "        else:\n",
    "            print('EXCLUDE_'+site1+'_'+found)\n",
    "subject.sort()\n",
    "\n",
    "#print('Total= '+str(len(subject)))\n",
    "#print(site1 + \" = \" +str(count_1))"
   ]
  },
  {
   "cell_type": "code",
   "execution_count": 9,
   "metadata": {},
   "outputs": [
    {
     "name": "stdout",
     "output_type": "stream",
     "text": [
      "87555013\n"
     ]
    },
    {
     "ename": "FileNotFoundError",
     "evalue": "No such file: '/om/group/saxelab/OpenAutism/Analysis/bold_reference_images/mean_sub-SAXDOD001_task-morphing_run-001(.+?)_bold_space-MNI152NLin2009cAsym_preproc.nii.gz'",
     "output_type": "error",
     "traceback": [
      "\u001b[0;31m---------------------------------------------------------------------------\u001b[0m",
      "\u001b[0;31mFileNotFoundError\u001b[0m                         Traceback (most recent call last)",
      "\u001b[0;32m<ipython-input-9-e40a85e51cb0>\u001b[0m in \u001b[0;36m<module>\u001b[0;34m()\u001b[0m\n\u001b[1;32m     16\u001b[0m     \u001b[0msubj_ex\u001b[0m \u001b[0;34m=\u001b[0m \u001b[0mos\u001b[0m\u001b[0;34m.\u001b[0m\u001b[0mpath\u001b[0m\u001b[0;34m.\u001b[0m\u001b[0mjoin\u001b[0m\u001b[0;34m(\u001b[0m\u001b[0mvariantpath\u001b[0m\u001b[0;34m+\u001b[0m\u001b[0msubject\u001b[0m\u001b[0;34m[\u001b[0m\u001b[0melements\u001b[0m\u001b[0;34m]\u001b[0m\u001b[0;34m)\u001b[0m\u001b[0;34m\u001b[0m\u001b[0m\n\u001b[1;32m     17\u001b[0m \u001b[0;34m\u001b[0m\u001b[0m\n\u001b[0;32m---> 18\u001b[0;31m     \u001b[0mSubject\u001b[0m \u001b[0;34m=\u001b[0m \u001b[0mnib\u001b[0m\u001b[0;34m.\u001b[0m\u001b[0mload\u001b[0m\u001b[0;34m(\u001b[0m\u001b[0msubj_ex\u001b[0m\u001b[0;34m)\u001b[0m\u001b[0;34m\u001b[0m\u001b[0m\n\u001b[0m\u001b[1;32m     19\u001b[0m     \u001b[0mSubject_data\u001b[0m \u001b[0;34m=\u001b[0m \u001b[0mnp\u001b[0m\u001b[0;34m.\u001b[0m\u001b[0marray\u001b[0m\u001b[0;34m(\u001b[0m\u001b[0mSubject\u001b[0m\u001b[0;34m.\u001b[0m\u001b[0mdataobj\u001b[0m\u001b[0;34m)\u001b[0m\u001b[0;34m\u001b[0m\u001b[0m\n\u001b[1;32m     20\u001b[0m     \u001b[0;31m#print(Subject_data.shape)\u001b[0m\u001b[0;34m\u001b[0m\u001b[0;34m\u001b[0m\u001b[0m\n",
      "\u001b[0;32m/opt/conda/envs/neuro/lib/python3.6/site-packages/nibabel/loadsave.py\u001b[0m in \u001b[0;36mload\u001b[0;34m(filename, **kwargs)\u001b[0m\n\u001b[1;32m     38\u001b[0m     '''\n\u001b[1;32m     39\u001b[0m     \u001b[0;32mif\u001b[0m \u001b[0;32mnot\u001b[0m \u001b[0mop\u001b[0m\u001b[0;34m.\u001b[0m\u001b[0mexists\u001b[0m\u001b[0;34m(\u001b[0m\u001b[0mfilename\u001b[0m\u001b[0;34m)\u001b[0m\u001b[0;34m:\u001b[0m\u001b[0;34m\u001b[0m\u001b[0m\n\u001b[0;32m---> 40\u001b[0;31m         \u001b[0;32mraise\u001b[0m \u001b[0mFileNotFoundError\u001b[0m\u001b[0;34m(\u001b[0m\u001b[0;34m\"No such file: '%s'\"\u001b[0m \u001b[0;34m%\u001b[0m \u001b[0mfilename\u001b[0m\u001b[0;34m)\u001b[0m\u001b[0;34m\u001b[0m\u001b[0m\n\u001b[0m\u001b[1;32m     41\u001b[0m     \u001b[0msniff\u001b[0m \u001b[0;34m=\u001b[0m \u001b[0;32mNone\u001b[0m\u001b[0;34m\u001b[0m\u001b[0m\n\u001b[1;32m     42\u001b[0m     \u001b[0;32mfor\u001b[0m \u001b[0mimage_klass\u001b[0m \u001b[0;32min\u001b[0m \u001b[0mall_image_classes\u001b[0m\u001b[0;34m:\u001b[0m\u001b[0;34m\u001b[0m\u001b[0m\n",
      "\u001b[0;31mFileNotFoundError\u001b[0m: No such file: '/om/group/saxelab/OpenAutism/Analysis/bold_reference_images/mean_sub-SAXDOD001_task-morphing_run-001(.+?)_bold_space-MNI152NLin2009cAsym_preproc.nii.gz'"
     ]
    }
   ],
   "source": [
    "import os\n",
    "import nibabel as nib\n",
    "import numpy as np\n",
    "from matplotlib.mlab import PCA\n",
    "\n",
    "\n",
    "#result_array = np.array([])\n",
    "result_array = np.empty((len(subject)-1,902629,)) #columns rows (MUST FIX TO THE SHAPE I NEED)--275275;325325\n",
    "result_array[:] = np.nan\n",
    "print(result_array.size)\n",
    "largest_array = 0\n",
    "\n",
    "for elements in range(0, (len(subject)-1)):\n",
    "\n",
    "    #subj_ex = os.path.join('/om/group/saxelab/OpenAutism/Analysis/bold_reference_images/'+subject[elements])\n",
    "    subj_ex = os.path.join(variantpath+subject[elements])\n",
    "    \n",
    "    Subject = nib.load(subj_ex)\n",
    "    Subject_data = np.array(Subject.dataobj)\n",
    "    #print(Subject_data.shape)\n",
    "    \n",
    "    Mask = nib.load(mask)\n",
    "    Mask_data = np.array(Mask.dataobj)   \n",
    "    \n",
    "    Subject_data = Subject_data*Mask_data # added\n",
    "    \n",
    "    flat_subject = Subject_data.flatten()\n",
    "    #print(flat_subject[1])\n",
    "    #print(flat_subject.shape) \n",
    "    result_array[elements,:] = flat_subject\n",
    "    \n",
    "    if flat_subject.size > largest_array:\n",
    "        largest_array = flat_subject.size       \n",
    "\n",
    "print(result_array.shape)\n",
    "print(\"Matrix = \" + str(largest_array) + \"x\" + str(len(subject)))\n"
   ]
  },
  {
   "cell_type": "code",
   "execution_count": 4,
   "metadata": {},
   "outputs": [],
   "source": [
    "# mean center the data (mixed opinions about this-mean centering seems dominant view)\n",
    "a = result_array\n",
    "to_norm = np.mean(a, axis=0) #uncommented\n",
    "final = a - to_norm #uncommented\n",
    "\n",
    "U, s, VT = np.linalg.svd(final, full_matrices=False) #changed to final"
   ]
  },
  {
   "cell_type": "code",
   "execution_count": 5,
   "metadata": {},
   "outputs": [],
   "source": [
    "# as MURCIA et al did\n",
    "\n",
    "All_Component_scores = U*s    #col by col"
   ]
  },
  {
   "cell_type": "code",
   "execution_count": 6,
   "metadata": {},
   "outputs": [
    {
     "name": "stdout",
     "output_type": "stream",
     "text": [
      "(902629,)\n"
     ]
    },
    {
     "data": {
      "text/plain": [
       "<matplotlib.figure.Figure at 0x2b78cf6880b8>"
      ]
     },
     "metadata": {},
     "output_type": "display_data"
    },
    {
     "name": "stdout",
     "output_type": "stream",
     "text": [
      "./Site_Variance_Plots/Intrasite_Brains/CBTsholo001_Eigenimage_PC1.png\n"
     ]
    }
   ],
   "source": [
    "from nibabel.testing import data_path\n",
    "from nilearn import plotting\n",
    "\n",
    "# use temporarily\n",
    "root = '/om/group/saxelab/OpenAutism/Analysis/ROIs/'\n",
    "parcel_file = os.path.join(data_path, root + 'rSTS_FSL_space.nii.gz')\n",
    "PARCEL = nib.load(parcel_file)\n",
    "\n",
    "\n",
    "temp = VT[0,:]\n",
    "temp2 = np.array(temp)\n",
    "print(temp2.shape)\n",
    "\n",
    "Eigenimage = np.reshape(temp2, (91,109,91))\n",
    "#img = nib.Nifti1Image(Eigenimage, np.eye(4)) # use img\n",
    "img = nib.Nifti1Image(Eigenimage, PARCEL.affine, PARCEL.header)\n",
    "nib.save(img, save_path2+site1+task1+run1+'_Eigenimage_PC1.nii.gz')\n",
    "\n",
    "\n",
    "# load in a nifti file and see if it works.\n",
    "#temp_path = './Site_Variance_Plots/CBTsholo001_VS_DODmorphing001_Eigenimage_PC1.nii.gz' # use temp_path\n",
    "temp_path = save_path2+site1+task1+run1+'_Eigenimage_PC1.nii.gz'\n",
    "\n",
    "#plotting.plot_glass_brain(img, threshold=0.0001)\n",
    "display = plotting.plot_glass_brain(temp_path, title='plot_glass_brain',\n",
    "                          black_bg=True, display_mode='xz', threshold=0.00001)\n",
    "#plotting.plot_connectome(img)\n",
    "\n",
    "plotting.show()\n",
    "  \n",
    "#display.savefig(save_path2+site1+task1+run1+'_Eigenimage_PC1.png')\n",
    "#plotting.plot_stat_map(IMG, output_file=save_path2+site1+task1+run1+'_Eigenimage_PC1.png') \n",
    "   \n",
    "display.savefig(save_path2+site1+task1+run1+'_Eigenimage_PC1.png')\n",
    "print(save_path2+site1+task1+run1+'_Eigenimage_PC1.png')"
   ]
  },
  {
   "cell_type": "code",
   "execution_count": null,
   "metadata": {},
   "outputs": [],
   "source": [
    "# apply binary mask to all brains * "
   ]
  }
 ],
 "metadata": {
  "kernelspec": {
   "display_name": "Python 3",
   "language": "python",
   "name": "python3"
  },
  "language_info": {
   "codemirror_mode": {
    "name": "ipython",
    "version": 3
   },
   "file_extension": ".py",
   "mimetype": "text/x-python",
   "name": "python",
   "nbconvert_exporter": "python",
   "pygments_lexer": "ipython3",
   "version": "3.6.4"
  }
 },
 "nbformat": 4,
 "nbformat_minor": 2
}
